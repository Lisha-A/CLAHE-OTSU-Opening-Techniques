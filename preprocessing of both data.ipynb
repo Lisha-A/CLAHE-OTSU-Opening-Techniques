{
 "cells": [
  {
   "cell_type": "code",
   "execution_count": 11,
   "metadata": {},
   "outputs": [],
   "source": [
    "##### APPLY CLAHE TO DYSLEXIC DATA\n",
    "import numpy as np\n",
    "import cv2\n",
    "import glob\n",
    "from random import *\n",
    "all_img = glob.glob(\"F:\\\\IIT KANPUR MTECH STUDY MATERIAL\\\\THESIS\\\\Data  of Dyslexic and Non Dyslexic Children in Hindi\\\\Both Data\\\\Dyslexia\\\\*\")\n",
    "#other_dir = \"F:\\\\IIT KANPUR MTECH STUDY MATERIAL\\\\THESIS\\\\Data  of Dyslexic and Non Dyslexic Children in Hindi\\\\Both Data\\\\CLAHE\"\n",
    "for img_id, img_path in enumerate(all_img):\n",
    "    img = cv2.imread(img_path,0) #three options for the second parameter; -1, 0, and 1, which correspond to Unchanged, Grayscale, and Color respectively.\n",
    "    #print(img_id)\n",
    "\n",
    "    #create a CLAHE object (Arguments are optional).\n",
    "    clahe = cv2.createCLAHE(clipLimit=3.0, tileGridSize=(2,2))\n",
    "    cl1 = clahe.apply(img)\n",
    "    \n",
    "     #create a OTSU object.\n",
    "    ret, imgf = cv2.threshold(cl1, 0, 255, cv2.THRESH_BINARY+cv2.THRESH_OTSU)\n",
    "    \n",
    "    kernel = cv2.getStructuringElement(cv2.MORPH_ELLIPSE,(3,3))\n",
    "    opening = cv2.morphologyEx(imgf, cv2.MORPH_OPEN, kernel)\n",
    "        \n",
    "    other_dir = \"F:\\\\IIT KANPUR MTECH STUDY MATERIAL\\\\THESIS\\\\Data  of Dyslexic and Non Dyslexic Children in Hindi\\\\Both Data_1\\\\Dyslexia\" \n",
    "    cv2.imwrite(f'{other_dir}/open_dys_{img_id}.jpg',opening)   "
   ]
  },
  {
   "cell_type": "code",
   "execution_count": 15,
   "metadata": {},
   "outputs": [],
   "source": [
    "#for non dyslexic data\n",
    "import numpy as np\n",
    "import cv2\n",
    "import glob\n",
    "from random import *\n",
    "all_img = glob.glob(\"F:\\\\IIT KANPUR MTECH STUDY MATERIAL\\\\THESIS\\\\Data  of Dyslexic and Non Dyslexic Children in Hindi\\\\Both Data\\\\Non Dyslexia\\\\*\")\n",
    "#other_dir = \"F:\\\\IIT KANPUR MTECH STUDY MATERIAL\\\\THESIS\\\\Data  of Dyslexic and Non Dyslexic Children in Hindi\\\\Both Data\\\\CLAHE\"\n",
    "for img_id, img_path in enumerate(all_img):\n",
    "    img = cv2.imread(img_path,0) #three options for the second parameter; -1, 0, and 1, which correspond to Unchanged, Grayscale, and Color respectively.\n",
    "    #print(img_id)\n",
    "\n",
    "    #create a CLAHE object (Arguments are optional).\n",
    "    clahe = cv2.createCLAHE(clipLimit=4.0, tileGridSize=(2,2))\n",
    "    cl1 = clahe.apply(img)\n",
    "    \n",
    "     #create a OTSU object.\n",
    "    ret, imgf = cv2.threshold(cl1, 0, 255, cv2.THRESH_BINARY+cv2.THRESH_OTSU)\n",
    "    \n",
    "    kernel = cv2.getStructuringElement(cv2.MORPH_ELLIPSE,(3,3))\n",
    "    opening = cv2.morphologyEx(imgf, cv2.MORPH_OPEN, kernel)\n",
    "        \n",
    "    other_dir = \"F:\\\\IIT KANPUR MTECH STUDY MATERIAL\\\\THESIS\\\\Data  of Dyslexic and Non Dyslexic Children in Hindi\\\\Both Data_1\\\\Non Dyslexia\" \n",
    "    cv2.imwrite(f'{other_dir}/open_dys_{img_id}.jpg',opening)   "
   ]
  },
  {
   "cell_type": "code",
   "execution_count": null,
   "metadata": {},
   "outputs": [],
   "source": []
  }
 ],
 "metadata": {
  "kernelspec": {
   "display_name": "Python 3",
   "language": "python",
   "name": "python3"
  },
  "language_info": {
   "codemirror_mode": {
    "name": "ipython",
    "version": 3
   },
   "file_extension": ".py",
   "mimetype": "text/x-python",
   "name": "python",
   "nbconvert_exporter": "python",
   "pygments_lexer": "ipython3",
   "version": "3.7.8"
  }
 },
 "nbformat": 4,
 "nbformat_minor": 4
}
